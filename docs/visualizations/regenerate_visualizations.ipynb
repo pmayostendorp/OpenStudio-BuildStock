{
 "cells": [
  {
   "cell_type": "markdown",
   "metadata": {},
   "source": [
    "# Regenerate Project Visualizations\n",
    "\n",
    "This notebook regenerates visualizations for all the ResStock projects.  Specifically, the notebook runs a set of other scripts that regenerates the following:\n",
    "\n",
    "1. The dependency wheel in `<project_name>/util/dependency_wheel` which show the dependencies and dependents of the housing characteristics for this project.\n",
    "2. The dependency graphs in `<project_name>/util/dependency_graphs` which shows the graph of characteristics and their dependencies to help identify high and lower levels of housing characteristics."
   ]
  },
  {
   "cell_type": "markdown",
   "metadata": {},
   "source": [
    "## 1. Regenerate the Dependency Wheels"
   ]
  },
  {
   "cell_type": "code",
   "execution_count": 1,
   "metadata": {},
   "outputs": [
    {
     "name": "stdout",
     "output_type": "stream",
     "text": [
      "C:\\OpenStudio\\OpenStudio-BuildStock\\docs\\visualizations\\dependencyWheels\n",
      "2.7.15 |Anaconda, Inc.| (default, Nov 13 2018, 17:33:26) [MSC v.1500 64 bit (AMD64)]\n",
      "Creating a dependency wheel for project:\n",
      "----------------------------------------\n",
      "C:\\OpenStudio\\OpenStudio-BuildStock\\docs\\visualizations\n"
     ]
    }
   ],
   "source": [
    "%cd dependencyWheels\n",
    "%run ./createDependencyWheelData.ipynb\n",
    "%cd .."
   ]
  },
  {
   "cell_type": "markdown",
   "metadata": {},
   "source": [
    "## 2. Regenerate the Dependency Graphs"
   ]
  },
  {
   "cell_type": "code",
   "execution_count": 2,
   "metadata": {},
   "outputs": [
    {
     "name": "stdout",
     "output_type": "stream",
     "text": [
      "C:\\OpenStudio\\OpenStudio-BuildStock\\docs\\visualizations\\dependencyGraphs\n",
      "2.7.15 |Anaconda, Inc.| (default, Nov 13 2018, 17:33:26) [MSC v.1500 64 bit (AMD64)]\n",
      "Creating a dependency graphs for project:\n",
      "----------------------------------------\n",
      "..\\..\\..\\project_national\n",
      "Name: \n",
      "Type: DiGraph\n",
      "Number of nodes: 86\n",
      "Number of edges: 147\n",
      "Average in degree:   1.7093\n",
      "Average out degree:   1.7093\n",
      "Longest path length:\t 8\n",
      "Maximum levels: \t 7\n",
      "\n",
      "..\\..\\..\\project_testing\n",
      "Name: \n",
      "Type: DiGraph\n",
      "Number of nodes: 69\n",
      "Number of edges: 20\n",
      "Average in degree:   0.2899\n",
      "Average out degree:   0.2899\n",
      "Longest path length:\t 2\n",
      "Maximum levels: \t 1\n",
      "\n",
      "C:\\OpenStudio\\OpenStudio-BuildStock\\docs\\visualizations\n"
     ]
    }
   ],
   "source": [
    "%cd dependencyGraphs\n",
    "%run ./Dependency_Graphs.ipynb\n",
    "%cd .."
   ]
  },
  {
   "cell_type": "code",
   "execution_count": null,
   "metadata": {},
   "outputs": [],
   "source": []
  },
  {
   "cell_type": "code",
   "execution_count": null,
   "metadata": {},
   "outputs": [],
   "source": []
  }
 ],
 "metadata": {
  "kernelspec": {
   "display_name": "buildstock-viz",
   "language": "python",
   "name": "buildstock-viz"
  },
  "language_info": {
   "codemirror_mode": {
    "name": "ipython",
    "version": 2
   },
   "file_extension": ".py",
   "mimetype": "text/x-python",
   "name": "python",
   "nbconvert_exporter": "python",
   "pygments_lexer": "ipython2",
   "version": "2.7.15"
  }
 },
 "nbformat": 4,
 "nbformat_minor": 2
}
